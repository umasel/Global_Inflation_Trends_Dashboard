{
 "cells": [
  {
   "cell_type": "markdown",
   "metadata": {},
   "source": [
    "# Database Connection"
   ]
  },
  {
   "cell_type": "code",
   "execution_count": 11,
   "metadata": {},
   "outputs": [],
   "source": [
    "import pandas as pd\n",
    "from sqlalchemy import create_engine\n",
    "from dotenv import load_dotenv\n",
    "import os"
   ]
  },
  {
   "cell_type": "markdown",
   "metadata": {},
   "source": [
    "You will need to create a `.env` file in your project root directory and add the following environment variables:\n",
    "\n",
    "DB_USER=your_database_user\n",
    "\n",
    "DB_PASSWORD=your_database_password\n",
    "\n",
    "DB_HOST=your_database_host\n",
    "\n",
    "DB_PORT=your_database_port\n",
    "\n",
    "DB_NAME=your_database_name\n",
    "\n",
    "You will also need to add the .env file to your `.gitignore` file to prevent it from being tracked by Git. The .gitignore file should contain the following line:\n",
    "\n",
    "`.env`\n",
    "\n",
    "---\n",
    "\n"
   ]
  },
  {
   "cell_type": "markdown",
   "metadata": {},
   "source": [
    "In Windows Command Prompt:\n",
    "\n",
    "C:\\Program Files\\PostgreSQL\\16\\bin>psql -U postgres -h localhost -d global_inflation_db\n",
    "Password for user postgres:\n",
    "\n",
    "psql (16.3)\n",
    "WARNING: Console code page (437) differs from Windows code page (1252)\n",
    "         8-bit characters might not work correctly. See psql reference\n",
    "         page \"Notes for Windows users\" for details.\n",
    "Type \"help\" for help.\n",
    "\n",
    "global_inflation_db=#"
   ]
  },
  {
   "cell_type": "code",
   "execution_count": null,
   "metadata": {},
   "outputs": [],
   "source": [
    "# Load environment variables from .env file\n",
    "load_dotenv()\n",
    "\n",
    "# Get environment variables\n",
    "db_user = os.getenv('DB_USER')\n",
    "db_password = os.getenv('DB_PASSWORD')\n",
    "db_host = os.getenv('DB_HOST')\n",
    "db_port = os.getenv('DB_PORT')\n",
    "db_name = os.getenv('DB_NAME')\n",
    "\n",
    "# Print environment variables to verify they are loaded correctly\n",
    "print(\"DB_USER:\", db_user)\n",
    "print(\"DB_PASSWORD:\", db_password)\n",
    "print(\"DB_HOST:\", db_host)\n",
    "print(\"DB_PORT:\", db_port)\n",
    "print(\"DB_NAME:\", db_name)\n"
   ]
  },
  {
   "cell_type": "code",
   "execution_count": 16,
   "metadata": {},
   "outputs": [],
   "source": [
    "def connect_to_db():\n",
    "    try:\n",
    "        connection = psycopg2.connect(\n",
    "            user=os.getenv('DB_USER'),\n",
    "            password=os.getenv('DB_PASSWORD'),\n",
    "            host=os.getenv('DB_HOST'),\n",
    "            port=int(os.getenv('DB_PORT')),  # Convert port to integer\n",
    "            database=os.getenv('DB_NAME')\n",
    "        )\n",
    "        return connection\n",
    "    except Exception as error:\n",
    "        print(f\"Error: {error}\")\n",
    "        return None"
   ]
  },
  {
   "cell_type": "code",
   "execution_count": 17,
   "metadata": {},
   "outputs": [],
   "source": [
    "# Create the database connection string\n",
    "connection_string = f'postgresql://{db_user}:{db_password}@{db_host}:{db_port}/{db_name}'\n",
    "\n",
    "# Create a SQLAlchemy engine\n",
    "engine = create_engine(connection_string)"
   ]
  },
  {
   "cell_type": "code",
   "execution_count": 18,
   "metadata": {},
   "outputs": [],
   "source": [
    "def fetch_data_from_db(query):\n",
    "    try:\n",
    "        df = pd.read_sql_query(query, engine)\n",
    "        return df\n",
    "    except Exception as error:\n",
    "        print(f\"Error: {error}\")\n",
    "        return None"
   ]
  },
  {
   "cell_type": "code",
   "execution_count": 19,
   "metadata": {},
   "outputs": [
    {
     "name": "stdout",
     "output_type": "stream",
     "text": [
      "                         id              country  \\\n",
      "0              Albania_1980              Albania   \n",
      "1              Algeria_1980              Algeria   \n",
      "2              Andorra_1980              Andorra   \n",
      "3               Angola_1980               Angola   \n",
      "4  Antigua and Barbuda_1980  Antigua and Barbuda   \n",
      "\n",
      "                                         indicator  year  inflation_rate  \n",
      "0  Annual average inflation (consumer prices) rate  1980             NaN  \n",
      "1  Annual average inflation (consumer prices) rate  1980             9.7  \n",
      "2  Annual average inflation (consumer prices) rate  1980             NaN  \n",
      "3  Annual average inflation (consumer prices) rate  1980            46.7  \n",
      "4  Annual average inflation (consumer prices) rate  1980            19.0  \n"
     ]
    }
   ],
   "source": [
    "# Query to fetch data from the 'inflation' table\n",
    "query = \"\"\"\n",
    "SELECT *\n",
    "FROM inflation\n",
    "ORDER BY year\n",
    "\"\"\"\n",
    "df = fetch_data_from_db(query)\n",
    "\n",
    "if df is not None:\n",
    "    print(df.head())  # Print the first few rows of the DataFrame to verify\n",
    "else:\n",
    "    print(\"Failed to fetch data from the database.\")"
   ]
  },
  {
   "cell_type": "code",
   "execution_count": 20,
   "metadata": {},
   "outputs": [
    {
     "data": {
      "text/html": [
       "<div>\n",
       "<style scoped>\n",
       "    .dataframe tbody tr th:only-of-type {\n",
       "        vertical-align: middle;\n",
       "    }\n",
       "\n",
       "    .dataframe tbody tr th {\n",
       "        vertical-align: top;\n",
       "    }\n",
       "\n",
       "    .dataframe thead th {\n",
       "        text-align: right;\n",
       "    }\n",
       "</style>\n",
       "<table border=\"1\" class=\"dataframe\">\n",
       "  <thead>\n",
       "    <tr style=\"text-align: right;\">\n",
       "      <th></th>\n",
       "      <th>id</th>\n",
       "      <th>country</th>\n",
       "      <th>indicator</th>\n",
       "      <th>year</th>\n",
       "      <th>inflation_rate</th>\n",
       "    </tr>\n",
       "  </thead>\n",
       "  <tbody>\n",
       "    <tr>\n",
       "      <th>0</th>\n",
       "      <td>Albania_1980</td>\n",
       "      <td>Albania</td>\n",
       "      <td>Annual average inflation (consumer prices) rate</td>\n",
       "      <td>1980</td>\n",
       "      <td>NaN</td>\n",
       "    </tr>\n",
       "    <tr>\n",
       "      <th>1</th>\n",
       "      <td>Algeria_1980</td>\n",
       "      <td>Algeria</td>\n",
       "      <td>Annual average inflation (consumer prices) rate</td>\n",
       "      <td>1980</td>\n",
       "      <td>9.7</td>\n",
       "    </tr>\n",
       "    <tr>\n",
       "      <th>2</th>\n",
       "      <td>Andorra_1980</td>\n",
       "      <td>Andorra</td>\n",
       "      <td>Annual average inflation (consumer prices) rate</td>\n",
       "      <td>1980</td>\n",
       "      <td>NaN</td>\n",
       "    </tr>\n",
       "    <tr>\n",
       "      <th>3</th>\n",
       "      <td>Angola_1980</td>\n",
       "      <td>Angola</td>\n",
       "      <td>Annual average inflation (consumer prices) rate</td>\n",
       "      <td>1980</td>\n",
       "      <td>46.7</td>\n",
       "    </tr>\n",
       "    <tr>\n",
       "      <th>4</th>\n",
       "      <td>Antigua and Barbuda_1980</td>\n",
       "      <td>Antigua and Barbuda</td>\n",
       "      <td>Annual average inflation (consumer prices) rate</td>\n",
       "      <td>1980</td>\n",
       "      <td>19.0</td>\n",
       "    </tr>\n",
       "  </tbody>\n",
       "</table>\n",
       "</div>"
      ],
      "text/plain": [
       "                         id              country  \\\n",
       "0              Albania_1980              Albania   \n",
       "1              Algeria_1980              Algeria   \n",
       "2              Andorra_1980              Andorra   \n",
       "3               Angola_1980               Angola   \n",
       "4  Antigua and Barbuda_1980  Antigua and Barbuda   \n",
       "\n",
       "                                         indicator  year  inflation_rate  \n",
       "0  Annual average inflation (consumer prices) rate  1980             NaN  \n",
       "1  Annual average inflation (consumer prices) rate  1980             9.7  \n",
       "2  Annual average inflation (consumer prices) rate  1980             NaN  \n",
       "3  Annual average inflation (consumer prices) rate  1980            46.7  \n",
       "4  Annual average inflation (consumer prices) rate  1980            19.0  "
      ]
     },
     "execution_count": 20,
     "metadata": {},
     "output_type": "execute_result"
    }
   ],
   "source": [
    "df.head()"
   ]
  },
  {
   "cell_type": "code",
   "execution_count": null,
   "metadata": {},
   "outputs": [],
   "source": []
  }
 ],
 "metadata": {
  "kernelspec": {
   "display_name": "dev",
   "language": "python",
   "name": "python3"
  },
  "language_info": {
   "codemirror_mode": {
    "name": "ipython",
    "version": 3
   },
   "file_extension": ".py",
   "mimetype": "text/x-python",
   "name": "python",
   "nbconvert_exporter": "python",
   "pygments_lexer": "ipython3",
   "version": "3.10.8"
  }
 },
 "nbformat": 4,
 "nbformat_minor": 2
}
